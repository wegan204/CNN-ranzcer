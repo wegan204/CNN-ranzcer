{
 "cells": [
  {
   "cell_type": "code",
   "execution_count": 2,
   "metadata": {
    "_cell_guid": "46004133-7515-4101-8257-fdd2c8ca1cba",
    "_uuid": "6e04a4c7-28ee-42d2-aa00-c31fb03c8275"
   },
   "outputs": [],
   "source": [
    "from torch.optim.lr_scheduler import StepLR\n",
    "import pandas as pd\n",
    "import numpy as np\n",
    "import torch\n",
    "import torch.nn as nn \n",
    "import torch.optim as optim\n",
    "import torchvision\n",
    "from torchvision import transforms\n",
    "from torch.utils.data import Dataset\n",
    "import os\n",
    "#import natsort\n",
    "from torch.utils import data\n",
    "from PIL import Image\n",
    "import matplotlib.pyplot as plt\n",
    "from torch.utils.data import TensorDataset, DataLoader\n",
    "import random\n",
    "from tqdm.auto import tqdm\n",
    "device = torch.device(\"cuda\" if torch.cuda.is_available() else \"cpu\")"
   ]
  },
  {
   "cell_type": "code",
   "execution_count": 3,
   "metadata": {
    "_cell_guid": "fa76dfbc-0d52-4980-b9b2-c6e005f0ca0e",
    "_uuid": "ebe2a58b-5b04-4b18-bced-690a9f64582e"
   },
   "outputs": [],
   "source": [
    "class CustomDataSet(Dataset):\n",
    "    def __init__(self, main_dir, transform, labels):\n",
    "        self.main_dir = main_dir\n",
    "        self.transform = transform\n",
    "        all_imgs = os.listdir(main_dir)\n",
    "        self.total_imgs = all_imgs#natsort.natsorted(all_imgs)\n",
    "        self.labels = labels\n",
    "\n",
    "    def __len__(self):\n",
    "        return len(self.total_imgs)\n",
    "\n",
    "    def __getitem__(self, idx):\n",
    "        img_loc = os.path.join(self.main_dir, self.total_imgs[idx])\n",
    "        image = Image.open(img_loc)#.convert(\"RGB\")\n",
    "        tensor_image = self.transform(image)\n",
    "        key = os.path.basename(img_loc)[:-4]#this is how we get our ids\n",
    "        #input labels as dictionary with id number as the key\n",
    "        label = self.labels[key]\n",
    "        return tensor_image, label\n",
    "\n",
    "train_transform = transforms.Compose([\n",
    "     transforms.Resize((48,48)),\n",
    "     transforms.ToTensor(),\n",
    "     transforms.Normalize(\n",
    "         [0.4824],# 0.4824, 0.4824],\n",
    "         [0.2142]),# 0.2142, 0.2142])\n",
    " ])\n",
    "\n",
    "\n",
    "test_transform = transforms.Compose([\n",
    "     transforms.Resize((48,48)),\n",
    "     transforms.ToTensor(),\n",
    "     transforms.Normalize(\n",
    "         [0.4824],# 0.4824, 0.4824],\n",
    "         [0.2142]),# 0.2142, 0.2142])\n",
    " ])\n",
    "\n",
    "class SimpleConvnet(nn.Module):\n",
    "    def __init__(self, input_channels, num_classes):\n",
    "        super(SimpleConvnet, self).__init__()\n",
    "\n",
    "        self.input_channels = input_channels\n",
    "        self.num_classes = num_classes\n",
    "\n",
    "        self.block1 = nn.Sequential(\n",
    "            nn.Conv2d(in_channels = self.input_channels, out_channels = 64, kernel_size=5, padding=2),\n",
    "            nn.ReLU()\n",
    "        )\n",
    "\n",
    "        self.block2 = nn.Sequential(\n",
    "            nn.Conv2d(in_channels = 64, out_channels = 64, kernel_size=3, padding=1),\n",
    "            nn.ReLU(),\n",
    "            nn.BatchNorm2d(64),\n",
    "            nn.Conv2d(in_channels = 64, out_channels = 64, kernel_size=3, padding=1),\n",
    "            nn.ReLU(),\n",
    "            nn.BatchNorm2d(64),\n",
    "            nn.Conv2d(in_channels = 64, out_channels = 64, kernel_size=3, padding=1),\n",
    "            nn.ReLU(),\n",
    "            nn.BatchNorm2d(64),\n",
    "            nn.MaxPool2d(kernel_size = 2)\n",
    "        )\n",
    "\n",
    "        self.block3 = nn.Sequential(\n",
    "            nn.Conv2d(in_channels = 64, out_channels = 128, kernel_size=3, padding=1),\n",
    "            nn.ReLU(),\n",
    "            nn.BatchNorm2d(128),\n",
    "            nn.Conv2d(in_channels = 128, out_channels = 128, kernel_size=3, padding=1),\n",
    "            nn.ReLU(),\n",
    "            nn.BatchNorm2d(128),\n",
    "            nn.Conv2d(in_channels = 128, out_channels = 128, kernel_size=3, padding=1),\n",
    "            nn.ReLU(),\n",
    "            nn.BatchNorm2d(128),\n",
    "            nn.MaxPool2d(kernel_size = 2)\n",
    "        )\n",
    "\n",
    "        self.block4 = nn.Sequential(\n",
    "            nn.Conv2d(in_channels = 128, out_channels = 256, kernel_size = 3, padding = 1),\n",
    "            nn.ReLU(),\n",
    "            nn.BatchNorm2d(256),\n",
    "            nn.Conv2d(in_channels = 256, out_channels = 256, kernel_size = 3, padding = 1),\n",
    "            nn.ReLU(),\n",
    "            nn.BatchNorm2d(256),\n",
    "            nn.Conv2d(in_channels = 256, out_channels = 256, kernel_size = 3, padding = 1),\n",
    "            nn.ReLU(),\n",
    "            nn.BatchNorm2d(256),\n",
    "            nn.MaxPool2d(kernel_size = 8)\n",
    "        )\n",
    "\n",
    "        #final linear layer to project into the correct number of classes\n",
    "        self.fc = nn.Linear(256, 11)\n",
    "        self.sig = nn.Sigmoid()\n",
    "    \n",
    "    def forward(self, x):\n",
    "       \n",
    "        x = self.block1(x)\n",
    "\n",
    "        x = self.block2(x)\n",
    "\n",
    "        x = self.block3(x)\n",
    "\n",
    "        x = self.block4(x)\n",
    "\n",
    "        x = View((-1,256))(x)\n",
    "        x = self.fc(x)\n",
    "        x = self.sig(x)\n",
    "        output = x\n",
    "        \n",
    "        return output\n",
    "    \n",
    "    \n",
    "class View(nn.Module):\n",
    "    def __init__(self, shape):\n",
    "        super().__init__()\n",
    "        self.shape = shape\n",
    "\n",
    "    def forward(self, x):\n",
    "        return x.view(*self.shape)"
   ]
  },
  {
   "cell_type": "markdown",
   "metadata": {
    "_cell_guid": "cadd642a-77ba-42bc-bf0d-03d745f022f6",
    "_uuid": "905fc247-c742-4364-88a4-bf974d1a3f20"
   },
   "source": [
    "## Load Test Set"
   ]
  },
  {
   "cell_type": "code",
   "execution_count": 6,
   "metadata": {},
   "outputs": [],
   "source": [
    "!for entry in \"../input/ranzcr-clip-catheter-line-classification/test\"/*; do echo \"$entry\"; done > ./text.txt"
   ]
  },
  {
   "cell_type": "code",
   "execution_count": 19,
   "metadata": {
    "_cell_guid": "9875d983-749a-44c6-b03d-266b138e898a",
    "_uuid": "9f4ff9c1-91cf-491d-8aa2-6690473b5fab"
   },
   "outputs": [],
   "source": [
    "test_names = pd.read_csv('./text.txt', header = None)"
   ]
  },
  {
   "cell_type": "code",
   "execution_count": 20,
   "metadata": {},
   "outputs": [
    {
     "data": {
      "text/html": [
       "<div>\n",
       "<style scoped>\n",
       "    .dataframe tbody tr th:only-of-type {\n",
       "        vertical-align: middle;\n",
       "    }\n",
       "\n",
       "    .dataframe tbody tr th {\n",
       "        vertical-align: top;\n",
       "    }\n",
       "\n",
       "    .dataframe thead th {\n",
       "        text-align: right;\n",
       "    }\n",
       "</style>\n",
       "<table border=\"1\" class=\"dataframe\">\n",
       "  <thead>\n",
       "    <tr style=\"text-align: right;\">\n",
       "      <th></th>\n",
       "      <th>0</th>\n",
       "    </tr>\n",
       "  </thead>\n",
       "  <tbody>\n",
       "    <tr>\n",
       "      <th>0</th>\n",
       "      <td>../input/ranzcr-clip-catheter-line-classificat...</td>\n",
       "    </tr>\n",
       "    <tr>\n",
       "      <th>1</th>\n",
       "      <td>../input/ranzcr-clip-catheter-line-classificat...</td>\n",
       "    </tr>\n",
       "    <tr>\n",
       "      <th>2</th>\n",
       "      <td>../input/ranzcr-clip-catheter-line-classificat...</td>\n",
       "    </tr>\n",
       "    <tr>\n",
       "      <th>3</th>\n",
       "      <td>../input/ranzcr-clip-catheter-line-classificat...</td>\n",
       "    </tr>\n",
       "    <tr>\n",
       "      <th>4</th>\n",
       "      <td>../input/ranzcr-clip-catheter-line-classificat...</td>\n",
       "    </tr>\n",
       "    <tr>\n",
       "      <th>...</th>\n",
       "      <td>...</td>\n",
       "    </tr>\n",
       "    <tr>\n",
       "      <th>3577</th>\n",
       "      <td>../input/ranzcr-clip-catheter-line-classificat...</td>\n",
       "    </tr>\n",
       "    <tr>\n",
       "      <th>3578</th>\n",
       "      <td>../input/ranzcr-clip-catheter-line-classificat...</td>\n",
       "    </tr>\n",
       "    <tr>\n",
       "      <th>3579</th>\n",
       "      <td>../input/ranzcr-clip-catheter-line-classificat...</td>\n",
       "    </tr>\n",
       "    <tr>\n",
       "      <th>3580</th>\n",
       "      <td>../input/ranzcr-clip-catheter-line-classificat...</td>\n",
       "    </tr>\n",
       "    <tr>\n",
       "      <th>3581</th>\n",
       "      <td>../input/ranzcr-clip-catheter-line-classificat...</td>\n",
       "    </tr>\n",
       "  </tbody>\n",
       "</table>\n",
       "<p>3582 rows × 1 columns</p>\n",
       "</div>"
      ],
      "text/plain": [
       "                                                      0\n",
       "0     ../input/ranzcr-clip-catheter-line-classificat...\n",
       "1     ../input/ranzcr-clip-catheter-line-classificat...\n",
       "2     ../input/ranzcr-clip-catheter-line-classificat...\n",
       "3     ../input/ranzcr-clip-catheter-line-classificat...\n",
       "4     ../input/ranzcr-clip-catheter-line-classificat...\n",
       "...                                                 ...\n",
       "3577  ../input/ranzcr-clip-catheter-line-classificat...\n",
       "3578  ../input/ranzcr-clip-catheter-line-classificat...\n",
       "3579  ../input/ranzcr-clip-catheter-line-classificat...\n",
       "3580  ../input/ranzcr-clip-catheter-line-classificat...\n",
       "3581  ../input/ranzcr-clip-catheter-line-classificat...\n",
       "\n",
       "[3582 rows x 1 columns]"
      ]
     },
     "execution_count": 20,
     "metadata": {},
     "output_type": "execute_result"
    }
   ],
   "source": [
    "test_names"
   ]
  },
  {
   "cell_type": "code",
   "execution_count": 30,
   "metadata": {
    "_cell_guid": "e8c42ba3-6a99-43d5-b402-f8c954a96491",
    "_uuid": "3f70e5bf-70e8-45bb-8249-7489d4ecb003"
   },
   "outputs": [],
   "source": [
    "test_ids = pd.DataFrame(test_names[0].str.slice(start = 55, stop = -4)).rename(columns = {0:'ids'}).copy()\n",
    "#test_ids['ids'][0]"
   ]
  },
  {
   "cell_type": "code",
   "execution_count": 31,
   "metadata": {
    "_cell_guid": "fc1d2588-3b2b-4756-9b81-f453be4f5fa1",
    "_uuid": "2e0879f4-25e8-440d-aed1-c993e233d014"
   },
   "outputs": [],
   "source": [
    "#create fake labels. we do this just so we can use the CustomDataset class\n",
    "test = pd.concat([test_ids, pd.DataFrame(np.zeros((len(test_ids),11)))], axis=1)\n",
    "#test"
   ]
  },
  {
   "cell_type": "code",
   "execution_count": 32,
   "metadata": {
    "_cell_guid": "cfa21037-7564-4f9d-bb1e-cacd4ff7b4ab",
    "_uuid": "40b89c9e-7f33-4546-ba8b-6f0471ab7124"
   },
   "outputs": [],
   "source": [
    "fake_test_labels = {}\n",
    "for i in range(len(test)):\n",
    "    k = test.iloc[i]['ids']\n",
    "    v = torch.Tensor(test.iloc[0][1:-1])\n",
    "    fake_test_labels[k] = v"
   ]
  },
  {
   "cell_type": "code",
   "execution_count": 34,
   "metadata": {
    "_cell_guid": "51270657-8206-4fdd-99e2-42bb47828a4e",
    "_uuid": "1177ba45-a844-47f2-bdfc-e09a9f7baa43"
   },
   "outputs": [],
   "source": [
    "images_test = CustomDataSet('../input/ranzcr-clip-catheter-line-classification/test',test_transform, fake_test_labels)"
   ]
  },
  {
   "cell_type": "code",
   "execution_count": 35,
   "metadata": {
    "_cell_guid": "78c07123-eb6d-4acf-bdf7-64b3d2a55711",
    "_uuid": "9f8f4bf2-2658-4c3e-86a7-83aa95a04102"
   },
   "outputs": [],
   "source": [
    "batch_size = 256\n",
    "test_loader = torch.utils.data.DataLoader(images_test, batch_size=batch_size,\n",
    "                                                num_workers = 4)"
   ]
  },
  {
   "cell_type": "markdown",
   "metadata": {
    "_cell_guid": "b1adb5c6-a9e5-4103-9b58-197e16710553",
    "_uuid": "f8ab9d1d-7e7a-451d-9935-868ad432598e"
   },
   "source": [
    "## Load Model"
   ]
  },
  {
   "cell_type": "code",
   "execution_count": 36,
   "metadata": {
    "_cell_guid": "381fb038-b542-4bac-9eff-d14147e756bf",
    "_uuid": "db69bf74-23a1-49bd-926f-0f79207a7263"
   },
   "outputs": [],
   "source": [
    "model_file = '../input/model-state-dec2/model_state.pt'"
   ]
  },
  {
   "cell_type": "code",
   "execution_count": 37,
   "metadata": {
    "_cell_guid": "83aeb42d-edc1-4df6-8718-2a88d88ca386",
    "_uuid": "97e73631-2f28-49f4-a02b-a0810a2be476"
   },
   "outputs": [],
   "source": [
    "model = SimpleConvnet(1,11)\n",
    "model.load_state_dict(torch.load(model_file))\n",
    "model = model.to(device)"
   ]
  },
  {
   "cell_type": "code",
   "execution_count": 38,
   "metadata": {
    "_cell_guid": "c7165ce5-b121-44ad-af4b-8be644528b4b",
    "_uuid": "43660729-6abe-4329-97da-0247fc90f490"
   },
   "outputs": [
    {
     "name": "stdout",
     "output_type": "stream",
     "text": [
      "Predicted on batch 0!\n",
      "Predicted on batch 1!\n",
      "Predicted on batch 2!\n",
      "Predicted on batch 3!\n",
      "Predicted on batch 4!\n",
      "Predicted on batch 5!\n",
      "Predicted on batch 6!\n",
      "Predicted on batch 7!\n",
      "Predicted on batch 8!\n",
      "Predicted on batch 9!\n",
      "Predicted on batch 10!\n",
      "Predicted on batch 11!\n",
      "Predicted on batch 12!\n",
      "Predicted on batch 13!\n"
     ]
    }
   ],
   "source": [
    "preds_by_batch = {}\n",
    "with torch.no_grad(): \n",
    "    for i, samples in enumerate(test_loader):\n",
    "        # TODO: Put the inputs and targets on the write device\n",
    "        data, _ = samples\n",
    "        #target = target.long()\n",
    "        data = data.to(device)\n",
    "\n",
    "        # TODO: Feed forward to get the logits\n",
    "        y_pred_test = model(data)\n",
    "        preds_by_batch[i] = y_pred_test\n",
    "        print('Predicted on batch {0}!'.format(i))"
   ]
  },
  {
   "cell_type": "code",
   "execution_count": 39,
   "metadata": {
    "_cell_guid": "3699ca10-b065-4e5e-8937-ee51e3170eac",
    "_uuid": "1cecc526-ea67-4dfc-9a26-3f3cfee198bf"
   },
   "outputs": [],
   "source": [
    "#preds_by_batch.keys()"
   ]
  },
  {
   "cell_type": "code",
   "execution_count": 40,
   "metadata": {
    "_cell_guid": "c4bf559e-84a2-4052-baa0-c6912ab111b5",
    "_uuid": "0e28a738-c5eb-4137-9af3-fd8b1eff8f05"
   },
   "outputs": [],
   "source": [
    "#preds_by_batch[1]"
   ]
  },
  {
   "cell_type": "code",
   "execution_count": 41,
   "metadata": {
    "_cell_guid": "7ead05d0-bbc2-4f33-9939-ca4375f68cad",
    "_uuid": "72cc2e20-20a1-42cf-ae95-d068a52d86c8"
   },
   "outputs": [],
   "source": [
    "tens = []\n",
    "for i in range(len(preds_by_batch)):\n",
    "    tens.append(np.array(preds_by_batch[i].cpu()))"
   ]
  },
  {
   "cell_type": "code",
   "execution_count": 42,
   "metadata": {
    "_cell_guid": "55f6cbd5-e32a-4223-ba58-87d542f8da16",
    "_uuid": "4e267030-9f77-4e93-a2b1-04c0246812ea"
   },
   "outputs": [],
   "source": [
    "preds = pd.DataFrame(np.concatenate(np.array(tens)))\n",
    "preds['ids'] = test['ids'].copy()\n",
    "preds = preds[['ids', 0, 1, 2, 3, 4, 5, 6, 7, 8, 9, 10]]\n",
    "preds = preds.rename(columns = {'ids':'StudyInstanceUID',\n",
    "                        0:'ETT - Abnormal',\n",
    "                        1:'ETT - Borderline',\n",
    "                        2:'ETT - Normal',\n",
    "                        3:'NGT - Abnormal',\n",
    "                        4:'NGT - Borderline',\n",
    "                        5:'NGT - Incompletely Imaged',\n",
    "                        6:'NGT - Normal',\n",
    "                        7:'CVC - Abnormal',\n",
    "                        8:'CVC - Borderline',\n",
    "                        9:'CVC - Normal',\n",
    "                        10:'Swan Ganz Catheter Present'})\n",
    "#preds"
   ]
  },
  {
   "cell_type": "code",
   "execution_count": 43,
   "metadata": {
    "_cell_guid": "3cb9ef86-f400-4c21-b953-b0539d7151d3",
    "_uuid": "65c39c46-1e34-4cde-9f1b-d7e6c84efa13"
   },
   "outputs": [],
   "source": [
    "samps = pd.read_csv('../input/ranzcr-clip-catheter-line-classification/sample_submission.csv')"
   ]
  },
  {
   "cell_type": "code",
   "execution_count": 44,
   "metadata": {
    "_cell_guid": "4220668e-3b91-4815-8dde-3d579b8eee70",
    "_uuid": "d939cc36-c8aa-427e-81c4-01e82760e152"
   },
   "outputs": [
    {
     "data": {
      "text/plain": [
       "0       True\n",
       "1       True\n",
       "2       True\n",
       "3       True\n",
       "4       True\n",
       "        ... \n",
       "3577    True\n",
       "3578    True\n",
       "3579    True\n",
       "3580    True\n",
       "3581    True\n",
       "Name: StudyInstanceUID, Length: 3582, dtype: bool"
      ]
     },
     "execution_count": 44,
     "metadata": {},
     "output_type": "execute_result"
    }
   ],
   "source": [
    "subs = pd.merge(samps[['StudyInstanceUID']], preds, on='StudyInstanceUID', how = 'left').copy()#['StudyInstanceUID']\n",
    "#subs['StudyInstanceUID'] == samps['StudyInstanceUID']"
   ]
  },
  {
   "cell_type": "code",
   "execution_count": 45,
   "metadata": {
    "_cell_guid": "e916567e-a07e-4e2f-9077-005e3b22b8b1",
    "_uuid": "217e30c8-a360-449d-bddb-727b9edf6988"
   },
   "outputs": [],
   "source": [
    "subs.to_csv('./submission.csv', index = False)"
   ]
  },
  {
   "cell_type": "code",
   "execution_count": null,
   "metadata": {},
   "outputs": [],
   "source": []
  }
 ],
 "metadata": {
  "kernelspec": {
   "display_name": "Python 3",
   "language": "python",
   "name": "python3"
  },
  "language_info": {
   "codemirror_mode": {
    "name": "ipython",
    "version": 3
   },
   "file_extension": ".py",
   "mimetype": "text/x-python",
   "name": "python",
   "nbconvert_exporter": "python",
   "pygments_lexer": "ipython3",
   "version": "3.7.3"
  }
 },
 "nbformat": 4,
 "nbformat_minor": 4
}
